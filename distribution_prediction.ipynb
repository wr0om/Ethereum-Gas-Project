{
 "cells": [
  {
   "cell_type": "code",
   "execution_count": null,
   "metadata": {},
   "outputs": [],
   "source": [
    "import numpy as np\n",
    "import pandas as pd\n",
    "import glob\n",
    "import matplotlib.pyplot as plt"
   ]
  },
  {
   "cell_type": "code",
   "execution_count": null,
   "metadata": {},
   "outputs": [],
   "source": [
    "# get all files from the data/ folder and concatenate them into a single dataframe\n",
    "# we dont know the file names, so we use the glob module to get all files\n",
    "files = glob.glob('data/*.csv')\n",
    "dfs = [pd.read_csv(f) for f in files]\n",
    "df = pd.concat(dfs)\n",
    "\n",
    "\n",
    "block_number = len(df['block_number'].unique())\n",
    "block_gas_prices = df.groupby('block_number')['gas_price'].apply(list)\n",
    "min_gas_prices = block_gas_prices.apply(min).sort_index()"
   ]
  },
  {
   "cell_type": "markdown",
   "metadata": {},
   "source": [
    "# LSTM"
   ]
  }
 ],
 "metadata": {
  "kernelspec": {
   "display_name": "ML2",
   "language": "python",
   "name": "python3"
  },
  "language_info": {
   "name": "python",
   "version": "3.11.7"
  }
 },
 "nbformat": 4,
 "nbformat_minor": 2
}
